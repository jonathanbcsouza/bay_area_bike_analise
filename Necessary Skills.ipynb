{
 "cells": [
  {
   "cell_type": "markdown",
   "metadata": {},
   "source": [
    "# Boas dicas para o projeto final a partir dos foruns\n",
    "Exercise 1:\n",
    "https://discussions.udacity.com/t/duvida-sobre-mapeamento-de-colunas-id-e-landmark/278522/26?u=jonathanbcsouza"
   ]
  },
  {
   "cell_type": "code",
   "execution_count": 2,
   "metadata": {
    "scrolled": true
   },
   "outputs": [
    {
     "name": "stdout",
     "output_type": "stream",
     "text": [
      "{'iphone 3G': 2008, 'iphone 4S': 2011, 'iphone 3GS': 2009, 'iphone': 2007, 'iphone 5': 2012, 'iphone 4': 2010}\n"
     ]
    }
   ],
   "source": [
    "# Criando um dicionários\n",
    "# Exercício 1\n",
    "released = {\n",
    "    \"iphone\" : 2007,\n",
    "    \"iphone 3G\" : 2008,\n",
    "    \"iphone 3GS\" : 2009,\n",
    "    \"iphone 4\" : 2010,\n",
    "    \"iphone 4S\" : 2011,\n",
    "    \"iphone 5\" : 2012\n",
    "}\n",
    "print released"
   ]
  },
  {
   "cell_type": "code",
   "execution_count": 3,
   "metadata": {
    "scrolled": false
   },
   "outputs": [
    {
     "data": {
      "text/plain": [
       "{'iphone': 2007,\n",
       " 'iphone 3G': 2008,\n",
       " 'iphone 3GS': 2009,\n",
       " 'iphone 4': 2010,\n",
       " 'iphone 4S': 2011,\n",
       " 'iphone 5': 2012}"
      ]
     },
     "execution_count": 3,
     "metadata": {},
     "output_type": "execute_result"
    }
   ],
   "source": [
    "# Convocando dicionários\n",
    "released"
   ]
  },
  {
   "cell_type": "code",
   "execution_count": 4,
   "metadata": {},
   "outputs": [
    {
     "name": "stdout",
     "output_type": "stream",
     "text": [
      "{'iphone 3G': 'foratemer', 'iphone 4S': 2011, 'iphone 3GS': 2009, 'iphone': 2007, 'iphone 5': 2012, 'iphone 4': 2010}\n"
     ]
    }
   ],
   "source": [
    "# Alterando dicionários\n",
    "# Exercício 1\n",
    "released[\"iphone 3G\"] = \"foratemer\"\n",
    "print released"
   ]
  },
  {
   "cell_type": "code",
   "execution_count": 5,
   "metadata": {},
   "outputs": [
    {
     "data": {
      "text/plain": [
       "['iphone 3G', 'iphone 4S', 'iphone 3GS', 'iphone', 'iphone 5', 'iphone 4']"
      ]
     },
     "execution_count": 5,
     "metadata": {},
     "output_type": "execute_result"
    }
   ],
   "source": [
    "# Imprime apenas as chaves\n",
    "released.keys()"
   ]
  },
  {
   "cell_type": "code",
   "execution_count": 6,
   "metadata": {},
   "outputs": [
    {
     "name": "stdout",
     "output_type": "stream",
     "text": [
      "{'iphone 4S': 2011, 'iphone 3GS': 2009, 'iphone': 2007, 'iphone 5': 2012, 'iphone 4': 2010}\n"
     ]
    }
   ],
   "source": [
    "# Deletando chaves\n",
    "del released[\"iphone 3G\"]\n",
    "print released"
   ]
  },
  {
   "cell_type": "code",
   "execution_count": 7,
   "metadata": {},
   "outputs": [
    {
     "name": "stdout",
     "output_type": "stream",
     "text": [
      "Fora Temer:\n",
      "2011\n",
      "2009\n",
      "2007\n",
      "2012\n",
      "2010\n"
     ]
    }
   ],
   "source": [
    "# Imprime \"Fora Temer\" e depois cada \n",
    "print \"Fora Temer:\"\n",
    "\n",
    "for cada in released :\n",
    "    releases= released[cada]\n",
    "    print releases"
   ]
  },
  {
   "cell_type": "code",
   "execution_count": 8,
   "metadata": {},
   "outputs": [
    {
     "name": "stdout",
     "output_type": "stream",
     "text": [
      "iphone 2007\n",
      "iphone 3GS 2009\n",
      "iphone 4 2010\n",
      "iphone 4S 2011\n",
      "iphone 5 2012\n"
     ]
    }
   ],
   "source": [
    "# Organizar dados\n",
    "for cada_chave, e_valor in sorted(released.items()):\n",
    "    print cada_chave, e_valor"
   ]
  },
  {
   "cell_type": "code",
   "execution_count": 9,
   "metadata": {},
   "outputs": [
    {
     "name": "stdout",
     "output_type": "stream",
     "text": [
      "{'iphone 4': 1, 'iphone 3GS': 1, 'iphone': 1, 'iphone 5': 1, 'iphone 4S': 1}\n"
     ]
    }
   ],
   "source": [
    "# Contando\n",
    "count = {}\n",
    "for cada_elemento in released:\n",
    "    count[cada_elemento] = count.get(cada_elemento, 0) + 1\n",
    "print count"
   ]
  },
  {
   "cell_type": "code",
   "execution_count": 10,
   "metadata": {
    "collapsed": true
   },
   "outputs": [],
   "source": [
    "dicionario = {}"
   ]
  },
  {
   "cell_type": "code",
   "execution_count": 11,
   "metadata": {
    "collapsed": true
   },
   "outputs": [],
   "source": [
    "# DataTime"
   ]
  },
  {
   "cell_type": "code",
   "execution_count": 12,
   "metadata": {},
   "outputs": [
    {
     "name": "stdout",
     "output_type": "stream",
     "text": [
      "('hoje \\xc3\\xa9:', datetime.date(2017, 9, 21))\n",
      "('Dia:', 21)\n",
      "('M\\xc3\\xaas:', 9)\n",
      "('Ano:', 2017)\n",
      "('Retorna o valor do dia da semana:', 3)\n",
      "('Hoje \\xc3\\xa9:', datetime.date(2017, 9, 21), 'Daqui 2 dias ser\\xc3\\xa1:', datetime.date(2017, 9, 23))\n",
      "('dia, m\\xc3\\xaas e ano:', 21, 9, 2017)\n",
      "dia: 21 - mês: 9 - ano: 2017\n",
      "isformat:  2017-09-21\n",
      "strftime:  21/09/17\n",
      "strftime:  Thursday 21. September 2017\n",
      "O dia é 21, o mês é September.\n"
     ]
    }
   ],
   "source": [
    "# -*- coding: utf-8 -*-\n",
    "\n",
    "# Importando todos os módulos do datetime.\n",
    "# Em uma situação real importe apenas os módulos que for utilizar.\n",
    "from datetime import *\n",
    "\n",
    "\n",
    "# Manipulando apenas datas:\n",
    "def datas():\n",
    "    \"\"\"\n",
    "    Neste método veremos exemplos de como manipular datas.\n",
    "    :return: Nada será retornado\n",
    "    \"\"\"\n",
    "    # Variável hoje irá receber a data no momento da execução do script.\n",
    "    hoje = date.today()\n",
    "    print('hoje é:', hoje)\n",
    "    print('Dia:', hoje.day)\n",
    "    print('Mês:', hoje.month)\n",
    "    print('Ano:', hoje.year)\n",
    "\n",
    "    # 0=Segunda, 1=Terça, 2=Quarta, 3=Quinta, 4=Sexta, 5=Sábado, 6=Domingo.\n",
    "    print('Retorna o valor do dia da semana:', hoje.weekday())\n",
    "\n",
    "    # Somando 2 dias a data de hoje.\n",
    "    print('Hoje é:', hoje, 'Daqui 2 dias será:', (hoje + timedelta(2)))\n",
    "\n",
    "    # Concatenando.\n",
    "    print('dia, mês e ano:', hoje.day, hoje.month, hoje.year)\n",
    "    print('dia: %d - mês: %d - ano: %d' % (hoje.day, hoje.month, hoje.year))\n",
    "\n",
    "    # Formatando a saída.\n",
    "    print'isformat: ', hoje.isoformat()\n",
    "    print'strftime: ', hoje.strftime('%d/%m/%y')\n",
    "    print'strftime: ', hoje.strftime('%A %d. %B %Y')\n",
    "    print'O {1} é {0:%d}, o {2} é {0:%B}.'.format(hoje, 'dia', 'mês')\n",
    "    \"\"\"\n",
    "    '{}'.format() - O format nos permite colocar um determinado conteúdo dentro dos colchetes.\n",
    "    {0} - Faz referencia ao item que está na posição 0 do format (variável hoje).\n",
    "    {0:%d} - Item na posição/chave 0 (zero) e desta posição queremos %d (valor dia).\n",
    "    {0:%B} - Item na posição/chave 0 (zero) e desta posição queremos %B (valor mês).\n",
    "    {1} - Faz referencia ao item que está na posição 1 do format (string dia).\n",
    "    {2} - Faz referencia ao item que está na posição 2 do format (string mês).\n",
    "    \"\"\"\n",
    "\n",
    "if __name__ == '__main__':\n",
    "    datas()"
   ]
  },
  {
   "cell_type": "code",
   "execution_count": 13,
   "metadata": {},
   "outputs": [
    {
     "name": "stdout",
     "output_type": "stream",
     "text": [
      "2017-09-21\n",
      "21\n",
      "9\n",
      "%d data de hoje:  2017-09-21\n",
      "\n",
      "dia, mês e ano: 21 9 2017\n",
      "dia: 21\n",
      "dia: 21 - mês: 9\n"
     ]
    }
   ],
   "source": [
    "hojes = date.today()\n",
    "print hojes\n",
    "print hojes.day\n",
    "print hojes.month\n",
    "print '%d data de hoje: ', hojes\n",
    "print ''\n",
    "# Concatenando.\n",
    "print'dia, mês e ano:', hojes.day, hojes.month, hojes.year\n",
    "print('dia: %d' % (hojes.day, ))\n",
    "print('dia: %d - mês: %d' % (hojes.day, hojes.month))\n"
   ]
  },
  {
   "cell_type": "code",
   "execution_count": 14,
   "metadata": {},
   "outputs": [
    {
     "name": "stdout",
     "output_type": "stream",
     "text": [
      "isformat:  2017-09-21\n"
     ]
    }
   ],
   "source": [
    "print 'isformat: ', hojes.isoformat()"
   ]
  },
  {
   "cell_type": "code",
   "execution_count": 15,
   "metadata": {},
   "outputs": [
    {
     "name": "stdout",
     "output_type": "stream",
     "text": [
      "strftime:  21/09/17\n"
     ]
    }
   ],
   "source": [
    "print'strftime: ', hojes.strftime('%d/%m/%y')"
   ]
  },
  {
   "cell_type": "code",
   "execution_count": 16,
   "metadata": {},
   "outputs": [
    {
     "data": {
      "text/plain": [
       "'21'"
      ]
     },
     "execution_count": 16,
     "metadata": {},
     "output_type": "execute_result"
    }
   ],
   "source": [
    "hojes.strftime('%d')"
   ]
  },
  {
   "cell_type": "code",
   "execution_count": 17,
   "metadata": {},
   "outputs": [
    {
     "ename": "NameError",
     "evalue": "name 'plt' is not defined",
     "output_type": "error",
     "traceback": [
      "\u001b[1;31m---------------------------------------------------------------------------\u001b[0m",
      "\u001b[1;31mNameError\u001b[0m                                 Traceback (most recent call last)",
      "\u001b[1;32m<ipython-input-17-d5515cdbd970>\u001b[0m in \u001b[0;36m<module>\u001b[1;34m()\u001b[0m\n\u001b[0;32m      5\u001b[0m \u001b[0mx\u001b[0m \u001b[1;33m=\u001b[0m \u001b[0mrange\u001b[0m\u001b[1;33m(\u001b[0m\u001b[0mN\u001b[0m\u001b[1;33m)\u001b[0m\u001b[1;33m\u001b[0m\u001b[0m\n\u001b[0;32m      6\u001b[0m \u001b[0mwidth\u001b[0m \u001b[1;33m=\u001b[0m \u001b[1;36m0.5\u001b[0m\u001b[1;33m\u001b[0m\u001b[0m\n\u001b[1;32m----> 7\u001b[1;33m \u001b[0mplt\u001b[0m\u001b[1;33m.\u001b[0m\u001b[0mbar\u001b[0m\u001b[1;33m(\u001b[0m\u001b[0mx\u001b[0m\u001b[1;33m,\u001b[0m \u001b[0my\u001b[0m\u001b[1;33m,\u001b[0m \u001b[0mwidth\u001b[0m\u001b[1;33m,\u001b[0m \u001b[0mcolor\u001b[0m\u001b[1;33m=\u001b[0m\u001b[1;34m\"red\"\u001b[0m\u001b[1;33m)\u001b[0m\u001b[1;33m\u001b[0m\u001b[0m\n\u001b[0m\u001b[0;32m      8\u001b[0m \u001b[0mplt\u001b[0m\u001b[1;33m.\u001b[0m\u001b[0mshow\u001b[0m\u001b[1;33m(\u001b[0m\u001b[1;33m)\u001b[0m\u001b[1;33m\u001b[0m\u001b[0m\n",
      "\u001b[1;31mNameError\u001b[0m: name 'plt' is not defined"
     ]
    }
   ],
   "source": [
    "# Exemplo gráfico\n",
    "\n",
    "y = [3, 10, 7, 5, 3, 4.5, 6, 8.1]\n",
    "N = len(y)\n",
    "x = range(N)\n",
    "width = 0.5\n",
    "plt.bar(x, y, width, color=\"red\")\n",
    "plt.show()"
   ]
  },
  {
   "cell_type": "code",
   "execution_count": null,
   "metadata": {
    "scrolled": true
   },
   "outputs": [],
   "source": [
    "y = [3, 10, 7, 5, 3, 4.5, 6, 8.1]\n",
    "N = len(y)\n",
    "x = range(N)\n",
    "width = 0.5\n",
    "plt.plot(x,y)\n",
    "plt.show()"
   ]
  },
  {
   "cell_type": "code",
   "execution_count": null,
   "metadata": {
    "scrolled": true
   },
   "outputs": [],
   "source": [
    "%matplotlib inline\n",
    "import seaborn as sns\n",
    "\n",
    "df = sns.load_dataset(\"iris\")\n",
    "sns.pairplot(df, hue=\"species\")"
   ]
  },
  {
   "cell_type": "code",
   "execution_count": null,
   "metadata": {
    "scrolled": true
   },
   "outputs": [],
   "source": [
    "# Usando contador\n",
    "a = [66.25, 333, 333, 1, 1234.5]\n",
    "\n",
    "print a.count(333)\n",
    "print a.count(66.25)\n",
    "print a.count('x')"
   ]
  },
  {
   "cell_type": "code",
   "execution_count": null,
   "metadata": {
    "scrolled": true
   },
   "outputs": [],
   "source": [
    "# Usando  função \".format\"\n",
    "print('Existem {:d} pontos no conjunto de dados'.format(5505458646538))"
   ]
  },
  {
   "cell_type": "code",
   "execution_count": null,
   "metadata": {},
   "outputs": [],
   "source": [
    "# Usando contador\n",
    "az = [[66.25, 333, 333, 1, 1000],\n",
    "     [10, 20, 30, 40.4, 50],\n",
    "     [100, 200, 300, 400, 500.1]]\n",
    "a[0][1]"
   ]
  },
  {
   "cell_type": "code",
   "execution_count": null,
   "metadata": {},
   "outputs": [],
   "source": [
    "# Gráfico final 1\n",
    "numbers = []\n",
    "for cada_item in az:\n",
    "    numbers.append(set(cada_item))\n",
    "\n",
    "plt.hist(numbers)\n",
    "plt.title(\"Number of riders per month\")\n",
    "plt.xlabel(\"Month\")\n",
    "plt.ylabel(\"Number of rides\")\n",
    "fig = plt.gcf()"
   ]
  },
  {
   "cell_type": "code",
   "execution_count": null,
   "metadata": {},
   "outputs": [],
   "source": [
    "# TODO: plote um gráfico de barras que mostre quantidade de viagens por subscription_type\n",
    "# lembrando que quando o comando .plot é usado, se pode escolher o tipo de gráfico usando \n",
    "# o parâmetro kind. Ex: plot(kind='bar')\n",
    "import numpy as np\n",
    "import matplotlib.pyplot as plt\n",
    "\n",
    "trip_subtype = trip_data['subscription_type'].value_counts()\n",
    "trip_subtype.plot(kind='bar', color=['#111333', 'firebrick'])\n",
    "\n",
    "plt.title('Trips x Subscription type ')\n",
    "plt.xlabel('Subscription type')\n",
    "plt.ylabel('Quantity of trips')\n",
    "plt.show()"
   ]
  },
  {
   "cell_type": "code",
   "execution_count": null,
   "metadata": {
    "collapsed": true
   },
   "outputs": [],
   "source": []
  }
 ],
 "metadata": {
  "kernelspec": {
   "display_name": "Python 2",
   "language": "python",
   "name": "python2"
  },
  "language_info": {
   "codemirror_mode": {
    "name": "ipython",
    "version": 2
   },
   "file_extension": ".py",
   "mimetype": "text/x-python",
   "name": "python",
   "nbconvert_exporter": "python",
   "pygments_lexer": "ipython2",
   "version": "2.7.13"
  }
 },
 "nbformat": 4,
 "nbformat_minor": 2
}
